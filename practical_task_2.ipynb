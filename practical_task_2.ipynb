{
  "nbformat": 4,
  "nbformat_minor": 0,
  "metadata": {
    "colab": {
      "provenance": []
    },
    "kernelspec": {
      "name": "python3",
      "display_name": "Python 3"
    },
    "language_info": {
      "name": "python"
    }
  },
  "cells": [
    {
      "cell_type": "markdown",
      "source": [
        "### Задание\n",
        "\n",
        "Написать приложение и функцию, которые собирают основные новости с сайта на выбор dzen.ru, lenta.ru, mail.ru . Для парсинга использовать XPath\n",
        "Структура данных должна содержать:\n",
        "* название источника\n",
        "* наименование новости\n",
        "* ссылку на новость\n",
        "* дата публикации\n",
        "\n",
        "минимум один сайт максимум все\n",
        "\n",
        "Задание считается выполненным, если:\n",
        "- код задокументирован, парсер работает корректно\n",
        "- репозиторий в github имеет readme.md с описанием и структурой проекта (если сдача github, gitlab )\n",
        "- есть скриншоты результата выполнения задания"
      ],
      "metadata": {
        "id": "0Lm2x6P4fDtd"
      }
    },
    {
      "cell_type": "markdown",
      "source": [
        "Выполнение подготовительных проверок.\n",
        "\n",
        "Ввиду отсутствия данных при формировании запроса было решено провести поэтапную проверку."
      ],
      "metadata": {
        "id": "q6pUVRwl4HhC"
      }
    },
    {
      "cell_type": "code",
      "source": [
        "# Установим необходимые библиотеки\n",
        "!pip install requests\n",
        "!pip install lxml"
      ],
      "metadata": {
        "colab": {
          "base_uri": "https://localhost:8080/"
        },
        "id": "06EqmR_rqrkD",
        "outputId": "ab2fd947-7a8b-4b64-d1b9-8bcc1a068349"
      },
      "execution_count": null,
      "outputs": [
        {
          "output_type": "stream",
          "name": "stdout",
          "text": [
            "Looking in indexes: https://pypi.org/simple, https://us-python.pkg.dev/colab-wheels/public/simple/\n",
            "Requirement already satisfied: requests in /usr/local/lib/python3.8/dist-packages (2.25.1)\n",
            "Requirement already satisfied: chardet<5,>=3.0.2 in /usr/local/lib/python3.8/dist-packages (from requests) (4.0.0)\n",
            "Requirement already satisfied: certifi>=2017.4.17 in /usr/local/lib/python3.8/dist-packages (from requests) (2022.12.7)\n",
            "Requirement already satisfied: idna<3,>=2.5 in /usr/local/lib/python3.8/dist-packages (from requests) (2.10)\n",
            "Requirement already satisfied: urllib3<1.27,>=1.21.1 in /usr/local/lib/python3.8/dist-packages (from requests) (1.24.3)\n",
            "Looking in indexes: https://pypi.org/simple, https://us-python.pkg.dev/colab-wheels/public/simple/\n",
            "Requirement already satisfied: lxml in /usr/local/lib/python3.8/dist-packages (4.9.2)\n"
          ]
        }
      ]
    },
    {
      "cell_type": "code",
      "execution_count": 21,
      "metadata": {
        "id": "OwsHXVJtewR1"
      },
      "outputs": [],
      "source": [
        "# Подключаем необходимые библиотеки и функции\n",
        "\n",
        "from lxml import html\n",
        "import requests\n",
        "from datetime import datetime\n",
        "from unicodedata import normalize"
      ]
    },
    {
      "cell_type": "code",
      "source": [
        "url = 'https://lenta.ru/parts/news/'\n",
        "\n",
        "headers = {\n",
        "    \"User-Agent\": 'Mozilla/5.0 (Macintosh; Intel Mac OS X 10_15_7) AppleWebKit/537.36 (KHTML, like Gecko) Chrome/110.0.0.0 Safari/537.36',\n",
        "}\n",
        "\n",
        "response = requests.get(url, headers=headers)"
      ],
      "metadata": {
        "id": "WV3PtxhOoXKh"
      },
      "execution_count": 22,
      "outputs": []
    },
    {
      "cell_type": "code",
      "source": [
        "# Проверка работы запроса\n",
        "response.ok"
      ],
      "metadata": {
        "colab": {
          "base_uri": "https://localhost:8080/"
        },
        "id": "uyo-DzBerOJG",
        "outputId": "753f8c85-d6b2-43b7-dc7d-2a0f27eb301d"
      },
      "execution_count": 23,
      "outputs": [
        {
          "output_type": "execute_result",
          "data": {
            "text/plain": [
              "True"
            ]
          },
          "metadata": {},
          "execution_count": 23
        }
      ]
    },
    {
      "cell_type": "code",
      "source": [
        "# Проверка работы ссылки\n",
        "response.url"
      ],
      "metadata": {
        "colab": {
          "base_uri": "https://localhost:8080/",
          "height": 35
        },
        "id": "bz7aqrgRri5Q",
        "outputId": "1f852c87-b0e5-4cd2-c674-3c591363f6bb"
      },
      "execution_count": 24,
      "outputs": [
        {
          "output_type": "execute_result",
          "data": {
            "text/plain": [
              "'https://lenta.ru/parts/news/'"
            ],
            "application/vnd.google.colaboratory.intrinsic+json": {
              "type": "string"
            }
          },
          "metadata": {},
          "execution_count": 24
        }
      ]
    },
    {
      "cell_type": "code",
      "source": [
        "# Проверка поиска новостных блоков\n",
        "\n",
        "dom_news_fields = html.fromstring(response.text)\n",
        "\n",
        "news_box = dom_news_fields.xpath(\"//a[contains(@class, 'card-')]\")"
      ],
      "metadata": {
        "id": "V_f7kcTlo3R8"
      },
      "execution_count": 37,
      "outputs": []
    },
    {
      "cell_type": "code",
      "source": [
        "news_box"
      ],
      "metadata": {
        "colab": {
          "base_uri": "https://localhost:8080/"
        },
        "id": "JeMwqXgwpz1F",
        "outputId": "37217264-34c7-42f6-a4ac-e5e17efe42ed"
      },
      "execution_count": 38,
      "outputs": [
        {
          "output_type": "execute_result",
          "data": {
            "text/plain": [
              "[<Element a at 0x7f881724e5e0>,\n",
              " <Element a at 0x7f881724e680>,\n",
              " <Element a at 0x7f881724e6d0>,\n",
              " <Element a at 0x7f881724e720>,\n",
              " <Element a at 0x7f881724e770>,\n",
              " <Element a at 0x7f881724e7c0>,\n",
              " <Element a at 0x7f881724e810>,\n",
              " <Element a at 0x7f881724e860>,\n",
              " <Element a at 0x7f881724e8b0>,\n",
              " <Element a at 0x7f881724e900>,\n",
              " <Element a at 0x7f881724e950>,\n",
              " <Element a at 0x7f881724e9a0>,\n",
              " <Element a at 0x7f881724e9f0>,\n",
              " <Element a at 0x7f881724ea40>,\n",
              " <Element a at 0x7f881724ea90>,\n",
              " <Element a at 0x7f881724eae0>,\n",
              " <Element a at 0x7f881724eb30>,\n",
              " <Element a at 0x7f881724eb80>,\n",
              " <Element a at 0x7f881724ebd0>,\n",
              " <Element a at 0x7f881724ec20>,\n",
              " <Element a at 0x7f881724ec70>,\n",
              " <Element a at 0x7f881724ecc0>,\n",
              " <Element a at 0x7f881724ed10>,\n",
              " <Element a at 0x7f881724ed60>,\n",
              " <Element a at 0x7f881724edb0>,\n",
              " <Element a at 0x7f881724ee00>,\n",
              " <Element a at 0x7f881724ee50>]"
            ]
          },
          "metadata": {},
          "execution_count": 38
        }
      ]
    },
    {
      "cell_type": "code",
      "source": [
        "# Проверка поиска источника новости\n",
        "\n",
        "dom_news_sources = html.fromstring(response.text)\n",
        "\n",
        "news_sources = dom_news_sources.xpath(\".//span[contains(@class, 'card-full-news__rubric')]/text()\")"
      ],
      "metadata": {
        "id": "TdvZDknJu3K6"
      },
      "execution_count": 39,
      "outputs": []
    },
    {
      "cell_type": "code",
      "source": [
        "news_sources"
      ],
      "metadata": {
        "colab": {
          "base_uri": "https://localhost:8080/"
        },
        "id": "Bg-lOJugvJhJ",
        "outputId": "ed819e67-8ec5-4aab-81f8-bfb297340698"
      },
      "execution_count": 40,
      "outputs": [
        {
          "output_type": "execute_result",
          "data": {
            "text/plain": [
              "['Ценности',\n",
              " 'Мир',\n",
              " 'Среда обитания',\n",
              " 'Наука и техника',\n",
              " 'Бывший СССР',\n",
              " 'Бывший СССР',\n",
              " 'Среда обитания',\n",
              " 'Россия',\n",
              " 'Россия',\n",
              " 'Мир',\n",
              " 'Спорт',\n",
              " 'Забота о себе',\n",
              " 'Силовые структуры',\n",
              " 'Россия',\n",
              " 'Из жизни',\n",
              " 'Забота о себе',\n",
              " 'Россия',\n",
              " 'Бывший СССР',\n",
              " 'Наука и техника']"
            ]
          },
          "metadata": {},
          "execution_count": 40
        }
      ]
    },
    {
      "cell_type": "code",
      "source": [
        "# Проверка поиска заголовка новостей\n",
        "dom_news_titles = html.fromstring(response.text)\n",
        "\n",
        "news_titles = dom_news_titles.xpath(\".//h3[contains(@class, 'card-full-news__title')]/text()\")"
      ],
      "metadata": {
        "id": "nM9e10-op15E"
      },
      "execution_count": 41,
      "outputs": []
    },
    {
      "cell_type": "code",
      "source": [
        "news_titles"
      ],
      "metadata": {
        "colab": {
          "base_uri": "https://localhost:8080/"
        },
        "id": "exbS-2PeuriX",
        "outputId": "71f643a4-bf34-4727-dbad-5a57803c0e07"
      },
      "execution_count": 42,
      "outputs": [
        {
          "output_type": "execute_result",
          "data": {
            "text/plain": [
              "['Популярная в 1970-х годах прическа стала новым трендом',\n",
              " 'Шольц посетовал на отсутствие единства в Германии',\n",
              " 'Названы способы настроиться на быстрый заработок',\n",
              " 'ЦБ захотел ограничить рискованные практики по ипотеке',\n",
              " 'Из пшеницы удалили способствующий образованию канцерогена ген',\n",
              " 'По всей Украине второй раз за день объявили воздушную тревогу',\n",
              " 'Зеленский заявил об отсутствии альтернатив членству Украины в ЕС и НАТО',\n",
              " 'Назван срок начала строительства моста через Неву за 50 миллиардов рублей',\n",
              " 'Российский школьник поставил третьеклассника на колени и требовал целовать руку',\n",
              " 'Последствия обстрела ВСУ приграничного российского города показали на видео',\n",
              " 'Посольство России в Румынии получило подозрительный конверт',\n",
              " 'Отец Месси оценил возможное возвращение сына в «Барселону»',\n",
              " 'Названы главные ошибки при ношении контактных линз',\n",
              " 'В московском СИЗО скончался фигурант громкого дела о растлении детей-сирот',\n",
              " 'Писатель Александр Проханов заявил о невозможности разделить Россию',\n",
              " 'Пара осталась без крупного выигрыша из-за собственной нерасторопности',\n",
              " 'Гурман подсказал способ избежать размокания сэндвичей',\n",
              " 'В Крыму сочли Одессу законной целью для освобождения',\n",
              " 'В Польше решили не закрывать погранпереход на границе с Белоруссией',\n",
              " 'Поврежденный «Прогресс МС-21» отстыкуют 18 февраля']"
            ]
          },
          "metadata": {},
          "execution_count": 42
        }
      ]
    },
    {
      "cell_type": "code",
      "source": [
        "# Проверка поиска ссылки на новость\n",
        "dom_news_links = html.fromstring(response.text)\n",
        "\n",
        "news_links = dom_news_links.xpath(\"//a[contains(@class, '_parts-news')]/@href\")"
      ],
      "metadata": {
        "id": "j3uLSB6Juua5"
      },
      "execution_count": 43,
      "outputs": []
    },
    {
      "cell_type": "code",
      "source": [
        "news_links"
      ],
      "metadata": {
        "colab": {
          "base_uri": "https://localhost:8080/"
        },
        "id": "GDGDloQru0qo",
        "outputId": "a557c757-8475-4ab9-806c-cf839b4f52e0"
      },
      "execution_count": 44,
      "outputs": [
        {
          "output_type": "execute_result",
          "data": {
            "text/plain": [
              "['/news/2023/02/17/disco_curls/',\n",
              " '/news/2023/02/17/unity/',\n",
              " 'https://moslenta.ru/news/lyudi/bystryi-zarabotok-17-02-2023.htm/',\n",
              " '/news/2023/02/17/cb_ogranicheniya/',\n",
              " '/news/2023/02/17/asparagin/',\n",
              " '/news/2023/02/17/trevoga_2/',\n",
              " '/news/2023/02/17/zelnato/',\n",
              " '/news/2023/02/17/mostneva/',\n",
              " '/news/2023/02/17/nakoleni/',\n",
              " '/news/2023/02/17/kadriobstrel/',\n",
              " '/news/2023/02/17/romania_surprise_/',\n",
              " '/news/2023/02/17/messi/',\n",
              " '/news/2023/02/17/eye_eye/',\n",
              " '/news/2023/02/17/buhonin/',\n",
              " '/news/2023/02/17/prhn/',\n",
              " '/news/2023/02/17/lottery/',\n",
              " '/news/2023/02/17/sandwich/',\n",
              " '/news/2023/02/17/osvobozhdenie/',\n",
              " '/news/2023/02/17/pl_bel/',\n",
              " '/news/2023/02/17/progress/']"
            ]
          },
          "metadata": {},
          "execution_count": 44
        }
      ]
    },
    {
      "cell_type": "code",
      "source": [
        "# Проверка поиска даты публикации\n",
        "dom_news_dates = html.fromstring(response.text)\n",
        "\n",
        "news_dates = dom_news_dates.xpath(\".//time/text()\")"
      ],
      "metadata": {
        "id": "K64PJeVpu2bE"
      },
      "execution_count": 64,
      "outputs": []
    },
    {
      "cell_type": "code",
      "source": [
        "news_dates"
      ],
      "metadata": {
        "id": "sTYbQFf3u810",
        "outputId": "dad95429-fff5-45df-c452-6213f862d43d",
        "colab": {
          "base_uri": "https://localhost:8080/"
        }
      },
      "execution_count": 65,
      "outputs": [
        {
          "output_type": "execute_result",
          "data": {
            "text/plain": [
              "['17:07',\n",
              " '17:07',\n",
              " '17:06',\n",
              " '17:01',\n",
              " '17:00',\n",
              " '16:57',\n",
              " '16:54',\n",
              " '16:54',\n",
              " '16:52',\n",
              " '16:52',\n",
              " '16:51',\n",
              " '16:49',\n",
              " '16:44',\n",
              " '16:44',\n",
              " '16:43',\n",
              " '16:43',\n",
              " '16:36',\n",
              " '16:31',\n",
              " '16:30',\n",
              " '16:30']"
            ]
          },
          "metadata": {},
          "execution_count": 65
        }
      ]
    },
    {
      "cell_type": "code",
      "source": [
        "def lenta_news():\n",
        "    \n",
        "    news = []\n",
        "    \n",
        "    keys = ('dates', 'titles', 'links')\n",
        "    date_format = '%H:%M'\n",
        "    url = 'https://lenta.ru/parts/news/'\n",
        "    \n",
        "    response = requests.get(url)\n",
        "\n",
        "    dom = html.fromstring(response.text)\n",
        "    dom.make_links_absolute(url)\n",
        "    \n",
        "    news_links = dom.xpath(\"//a[contains(@class, '_parts-news')]/@href\")\n",
        "    \n",
        "    news_titles = dom.xpath(\".//h3[contains(@class, 'card-full-news__title')]/text()\")\n",
        "\n",
        "    for i in range (len(news_titles)):\n",
        "        news_titles[i] = news_titles[i].replace(u'\\xa0', u' ')\n",
        "\n",
        "    news_date = []\n",
        "    \n",
        "    for item in news_links:\n",
        "        response = requests.get(item)\n",
        "        dom = html.fromstring(response.text)\n",
        "        date = dom.xpath(\".//time/text()\")\n",
        "        news_date.extend(date)\n",
        "\n",
        "    for i in range(len(news_date)):\n",
        "        news_date[i] = datetime.strptime(news_date[i], date_format)\n",
        "        \n",
        "    for item in list(zip(news_date, news_titles, news_links)):\n",
        "        news_dict = {}\n",
        "        for key, value in zip(keys, item):\n",
        "            news_dict[key] = value\n",
        "        \n",
        "        news_dict['source'] = 'lenta.ru'\n",
        "        news.append(news_dict)\n",
        "    \n",
        "    return news"
      ],
      "metadata": {
        "id": "o2aTCmGAgHt6"
      },
      "execution_count": 88,
      "outputs": []
    },
    {
      "cell_type": "code",
      "source": [
        "lenta_news()"
      ],
      "metadata": {
        "colab": {
          "base_uri": "https://localhost:8080/"
        },
        "id": "fdWBrEB8ewLx",
        "outputId": "fb6e0d7e-ce3a-4f22-8741-04cd7493af37"
      },
      "execution_count": 89,
      "outputs": [
        {
          "output_type": "execute_result",
          "data": {
            "text/plain": [
              "[{'dates': datetime.datetime(1900, 1, 1, 17, 15),\n",
              "  'titles': 'Актриса Будина обнаружила в «Чебурашке» пропаганду западных ценностей',\n",
              "  'links': 'https://lenta.ru/news/2023/02/17/cheb/',\n",
              "  'source': 'lenta.ru'},\n",
              " {'dates': datetime.datetime(1900, 1, 1, 17, 55),\n",
              "  'titles': '67-летнюю Крис Дженнер заподозрили в замужестве по кольцу за 88 миллионов рублей',\n",
              "  'links': 'https://lenta.ru/news/2023/02/17/kriswow/',\n",
              "  'source': 'lenta.ru'},\n",
              " {'dates': datetime.datetime(1900, 1, 1, 17, 47),\n",
              "  'titles': 'Мать угрожала ребенку ножом из-за плохих оценок и случайно позвонила директору',\n",
              "  'links': 'https://lenta.ru/news/2023/02/17/shkoldir/',\n",
              "  'source': 'lenta.ru'},\n",
              " {'dates': datetime.datetime(1900, 1, 1, 17, 44),\n",
              "  'titles': 'В роллах из «Якитории» оказался ненастоящий сыр',\n",
              "  'links': 'https://lenta.ru/news/2023/02/17/siiir/',\n",
              "  'source': 'lenta.ru'},\n",
              " {'dates': datetime.datetime(1900, 1, 1, 17, 44),\n",
              "  'titles': 'Известный российский актер рассказал о проблемных соседях',\n",
              "  'links': 'https://lenta.ru/news/2023/02/17/sosedii/',\n",
              "  'source': 'lenta.ru'},\n",
              " {'dates': datetime.datetime(1900, 1, 1, 17, 44),\n",
              "  'titles': 'Зеленский выразил уверенность в возврате Украиной утраченных территорий',\n",
              "  'links': 'https://lenta.ru/news/2023/02/17/ze_territory/',\n",
              "  'source': 'lenta.ru'},\n",
              " {'dates': datetime.datetime(1900, 1, 1, 17, 42),\n",
              "  'titles': 'Зеленский призвал не вводить табу в поставках оружия Украине',\n",
              "  'links': 'https://lenta.ru/news/2023/02/17/tabu/',\n",
              "  'source': 'lenta.ru'},\n",
              " {'dates': datetime.datetime(1900, 1, 1, 17, 41),\n",
              "  'titles': 'Партнерам зарабатывающих интимными фото девушек дали совет',\n",
              "  'links': 'https://lenta.ru/news/2023/02/17/sovet_web/',\n",
              "  'source': 'lenta.ru'},\n",
              " {'dates': datetime.datetime(1900, 1, 1, 17, 41),\n",
              "  'titles': 'Расистские насмешки горничной отеля над опоздавшими гостями сняли на видео',\n",
              "  'links': 'https://lenta.ru/news/2023/02/17/mocking_bird/',\n",
              "  'source': 'lenta.ru'},\n",
              " {'dates': datetime.datetime(1900, 1, 1, 17, 41),\n",
              "  'titles': 'В России пройдет крупнейший развлекательный фестиваль',\n",
              "  'links': 'https://lenta.ru/news/2023/02/17/vkfest/',\n",
              "  'source': 'lenta.ru'},\n",
              " {'dates': datetime.datetime(1900, 1, 1, 17, 15),\n",
              "  'titles': 'Принадлежавший замминистра обороны Mercedes попал в ДТП в Москве',\n",
              "  'links': 'https://lenta.ru/news/2023/02/17/dtp/',\n",
              "  'source': 'lenta.ru'},\n",
              " {'dates': datetime.datetime(1900, 1, 1, 17, 55),\n",
              "  'titles': 'Виктория Дайнеко объяснила отказ от услуг визажистов перед концертами',\n",
              "  'links': 'https://moslenta.ru/news/lyudi/viktoriya-daineko-17-02-2023.htm',\n",
              "  'source': 'lenta.ru'},\n",
              " {'dates': datetime.datetime(1900, 1, 1, 17, 47),\n",
              "  'titles': 'В море нашли трех дрейфующих мужчин и брошенную яхту с 365 килограммами кокаина',\n",
              "  'links': 'https://lenta.ru/news/2023/02/17/boat/',\n",
              "  'source': 'lenta.ru'},\n",
              " {'dates': datetime.datetime(1900, 1, 1, 17, 44),\n",
              "  'titles': '17-летний россиянин умер после тренировки в бассейне',\n",
              "  'links': 'https://lenta.ru/news/2023/02/17/koma/',\n",
              "  'source': 'lenta.ru'},\n",
              " {'dates': datetime.datetime(1900, 1, 1, 17, 44),\n",
              "  'titles': 'Белоруссия ответила Польше на закрытие погранперехода',\n",
              "  'links': 'https://lenta.ru/news/2023/02/17/otvetbel/',\n",
              "  'source': 'lenta.ru'},\n",
              " {'dates': datetime.datetime(1900, 1, 1, 17, 44),\n",
              "  'titles': 'Махачев высказался о нежелании бойцов UFC драться с братом Нурмагомедова',\n",
              "  'links': 'https://lenta.ru/news/2023/02/17/makhachev/',\n",
              "  'source': 'lenta.ru'},\n",
              " {'dates': datetime.datetime(1900, 1, 1, 17, 42),\n",
              "  'titles': 'Россию обвинили в отказе Запада от борьбы с последствиями изменения климата',\n",
              "  'links': 'https://lenta.ru/news/2023/02/17/munhh/',\n",
              "  'source': 'lenta.ru'},\n",
              " {'dates': datetime.datetime(1900, 1, 1, 17, 41),\n",
              "  'titles': 'Задержан предполагаемый убийца сторожа и его жены в российском городе',\n",
              "  'links': 'https://lenta.ru/news/2023/02/17/primorr/',\n",
              "  'source': 'lenta.ru'},\n",
              " {'dates': datetime.datetime(1900, 1, 1, 17, 41),\n",
              "  'titles': 'На Собчак подали в суд',\n",
              "  'links': 'https://lenta.ru/news/2023/02/17/larina/',\n",
              "  'source': 'lenta.ru'},\n",
              " {'dates': datetime.datetime(1900, 1, 1, 17, 41),\n",
              "  'titles': 'Кадыров рассказал о пришедшем с кувалдой к командиру «Ахмата» Пригожине',\n",
              "  'links': 'https://lenta.ru/news/2023/02/17/kuvald/',\n",
              "  'source': 'lenta.ru'}]"
            ]
          },
          "metadata": {},
          "execution_count": 89
        }
      ]
    },
    {
      "cell_type": "code",
      "source": [],
      "metadata": {
        "id": "agmkQDqje2hp"
      },
      "execution_count": null,
      "outputs": []
    }
  ]
}