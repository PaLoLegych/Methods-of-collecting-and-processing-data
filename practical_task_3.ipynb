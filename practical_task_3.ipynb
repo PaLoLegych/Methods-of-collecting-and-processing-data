{
  "nbformat": 4,
  "nbformat_minor": 0,
  "metadata": {
    "colab": {
      "provenance": []
    },
    "kernelspec": {
      "name": "python3",
      "display_name": "Python 3"
    },
    "language_info": {
      "name": "python"
    }
  },
  "cells": [
    {
      "cell_type": "markdown",
      "source": [
        "### Задание 1\n",
        "\n",
        "Необходимо собрать информацию о вакансиях на вводимую должность (используем input или через аргументы получаем должность) с сайтов HH(обязательно) и/или Superjob(по желанию). Приложение должно анализировать несколько страниц сайта (также вводим через input или аргументы). Получившийся список должен содержать в себе минимум:\n",
        "Наименование вакансии.\n",
        "Предлагаемую зарплату (разносим в три поля: минимальная и максимальная и валюта. цифры преобразуем к цифрам).\n",
        "Ссылку на саму вакансию.\n",
        "Сайт, откуда собрана вакансия.\n",
        "По желанию можно добавить ещё параметры вакансии (например, работодателя и расположение). Структура должна быть одинаковая для вакансий с обоих сайтов. Общий результат можно вывести с помощью dataFrame через pandas. Сохраните в json либо csv."
      ],
      "metadata": {
        "id": "vVp-Smor5mGq"
      }
    },
    {
      "cell_type": "code",
      "execution_count": 45,
      "metadata": {
        "id": "HWtbfMGr1pni"
      },
      "outputs": [],
      "source": [
        "from bs4 import BeautifulSoup as bs\n",
        "import requests\n",
        "import re\n",
        "import pandas as pd"
      ]
    },
    {
      "cell_type": "code",
      "source": [
        "def hh_parsing(vacancy):\n",
        "\n",
        "    vacancy_data = []\n",
        "    \n",
        "    params = {\n",
        "        'text': vacancy, \\\n",
        "        'search_field': 'name', \\\n",
        "        'items_on_page': '100', \\\n",
        "        'page': ''\n",
        "    }\n",
        "    \n",
        "    headers = {\n",
        "        'User-Agent': 'Mozilla/5.0 (Macintosh; Intel Mac OS X 10_15_7) AppleWebKit/537.36 (KHTML, like Gecko) Chrome/110.0.0.0 Safari/537.36',\n",
        "    }\n",
        "\n",
        "    link = 'https://hh.ru/search/vacancy'\n",
        "       \n",
        "    html = requests.get(link, params=params, headers=headers)\n",
        "    \n",
        "    if html.ok:\n",
        "        parsed_html = bs(html.text,'html.parser')\n",
        "        \n",
        "        page_block = parsed_html.find('div', {'data-qa': 'pager-block'})\n",
        "        if not page_block:\n",
        "            last_page = '1'\n",
        "        else:\n",
        "            last_page = int(page_block.find_all('a', {'class': 'bloko-button'})[-2].getText())\n",
        "    \n",
        "    for page in range(0, last_page):\n",
        "        params['page'] = page\n",
        "        html = requests.get(link, params=params, headers=headers)\n",
        "        \n",
        "        if html.ok:\n",
        "            parsed_html = bs(html.text,'html.parser')\n",
        "            \n",
        "            vacancy_items = parsed_html.find('div', {'data-qa': 'vacancy-serp__results'}) \\\n",
        "                                        .find_all('div', {'class': 'vacancy-serp-item'})\n",
        "                \n",
        "            for item in vacancy_items:\n",
        "                vacancy_data.append(hh_item_parsing(item))\n",
        "                \n",
        "    return vacancy_data"
      ],
      "metadata": {
        "id": "ynUXQURB1qof"
      },
      "execution_count": 49,
      "outputs": []
    },
    {
      "cell_type": "code",
      "source": [
        "def hh_item_parsing(item):\n",
        "\n",
        "    vacancy_data = {}\n",
        "    \n",
        "    # vacancy_name\n",
        "    vacancy_name = item.find('div', {'class': 'serp-item__title'}) \\\n",
        "                        .getText() \\\n",
        "                        .replace(u'\\xa0', u' ')\n",
        "    \n",
        "    vacancy_data['vacancy_name'] = vacancy_name\n",
        "    \n",
        "    # company_name\n",
        "    company_name = item.find('div', {'class': 'vacancy-serp-item__meta-info-company'}) \\\n",
        "                        .find('a') \\\n",
        "                        .getText()\n",
        "    \n",
        "    vacancy_data['company_name'] = company_name\n",
        "    \n",
        "    #salary\n",
        "    salary = item.find('div', {'class': 'bloko-header-section-3'})\n",
        "    if not salary:\n",
        "        salary_min = None\n",
        "        salary_max = None\n",
        "        salary_currency = None\n",
        "    else:\n",
        "        salary = salary.getText() \\\n",
        "                        .replace(u'\\xa0', u'')\n",
        "        \n",
        "        salary = re.split(r'\\s|-', salary)\n",
        "        \n",
        "        if salary[0] == 'до':\n",
        "            salary_min = None\n",
        "            salary_max = int(salary[1])\n",
        "        elif salary[0] == 'от':\n",
        "            salary_min = int(salary[1])\n",
        "            salary_max = None\n",
        "        else:\n",
        "            salary_min = int(salary[0])\n",
        "            salary_max = int(salary[1])            \n",
        "        salary_currency = salary[2]\n",
        "        \n",
        "    vacancy_data['salary_min'] = salary_min\n",
        "    vacancy_data['salary_max'] = salary_max\n",
        "    vacancy_data['salary_currency'] = salary_currency\n",
        "    \n",
        "    # link\n",
        "    is_ad = item.find('h3', {'class': 'bloko-header-section-3'}) \\\n",
        "                .getText()\n",
        "    \n",
        "    vacancy_link = item.find('div', {'class': 'vacancy-serp-item-body__main-info'}) \\\n",
        "                        .find('a')['href']\n",
        "\n",
        "    # site\n",
        "    vacancy_data['site'] = 'hh.ru'\n",
        "    \n",
        "    return vacancy_data\n"
      ],
      "metadata": {
        "id": "ACFbo_Mf4WGx"
      },
      "execution_count": 50,
      "outputs": []
    },
    {
      "cell_type": "code",
      "source": [
        "def parser_vacancy(vacancy):\n",
        "        \n",
        "    vacancy_date = []\n",
        "    vacancy_date.extend(hh_parsing(vacancy))\n",
        "    \n",
        "    df = pd.DataFrame(vacancy_date)"
      ],
      "metadata": {
        "id": "7M3a6XB04dY5"
      },
      "execution_count": 60,
      "outputs": []
    },
    {
      "cell_type": "code",
      "source": [
        "print(parser_vacancy(vacancy))"
      ],
      "metadata": {
        "colab": {
          "base_uri": "https://localhost:8080/"
        },
        "id": "26pIfd0GAr4o",
        "outputId": "02d6b778-dc29-4555-82c9-eb9d36e60379"
      },
      "execution_count": 62,
      "outputs": [
        {
          "output_type": "stream",
          "name": "stdout",
          "text": [
            "Empty DataFrame\n",
            "Columns: []\n",
            "Index: []\n",
            "None\n"
          ]
        }
      ]
    },
    {
      "cell_type": "code",
      "source": [
        "df.info"
      ],
      "metadata": {
        "colab": {
          "base_uri": "https://localhost:8080/"
        },
        "id": "oqdyP41vBKoB",
        "outputId": "6b352bb6-cf75-4013-e1c9-71898936b1d3"
      },
      "execution_count": 63,
      "outputs": [
        {
          "output_type": "execute_result",
          "data": {
            "text/plain": [
              "<bound method DataFrame.info of Empty DataFrame\n",
              "Columns: []\n",
              "Index: []>"
            ]
          },
          "metadata": {},
          "execution_count": 63
        }
      ]
    },
    {
      "cell_type": "code",
      "source": [],
      "metadata": {
        "id": "8JO8DsfvCKhz"
      },
      "execution_count": null,
      "outputs": []
    }
  ]
}